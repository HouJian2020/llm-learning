{
 "cells": [
  {
   "cell_type": "code",
   "execution_count": 1,
   "id": "d3d6e6c8-59e2-4f26-aad5-e39683cbbbb7",
   "metadata": {
    "execution": {
     "iopub.execute_input": "2024-03-02T13:29:57.554517Z",
     "iopub.status.busy": "2024-03-02T13:29:57.554101Z",
     "iopub.status.idle": "2024-03-02T13:29:57.939559Z",
     "shell.execute_reply": "2024-03-02T13:29:57.937781Z",
     "shell.execute_reply.started": "2024-03-02T13:29:57.554482Z"
    }
   },
   "outputs": [
    {
     "data": {
      "text/plain": [
       "'0.28.0'"
      ]
     },
     "execution_count": 1,
     "metadata": {},
     "output_type": "execute_result"
    }
   ],
   "source": [
    "import openai\n",
    "import os\n",
    "openai.api_base = 'https://chatapi.a3e.top/v1'\n",
    "openai.api_key = 'sk-xQCDPzIvC83disI5C7DeBa8fC2Fa4bDfB2627e5cB5603d00'\n",
    "openai.__version__"
   ]
  },
  {
   "cell_type": "code",
   "execution_count": 2,
   "id": "29e282dd-595c-494c-aedb-a33006017534",
   "metadata": {
    "execution": {
     "iopub.execute_input": "2024-03-02T13:29:57.943491Z",
     "iopub.status.busy": "2024-03-02T13:29:57.942852Z",
     "iopub.status.idle": "2024-03-02T13:29:57.955414Z",
     "shell.execute_reply": "2024-03-02T13:29:57.953531Z",
     "shell.execute_reply.started": "2024-03-02T13:29:57.943432Z"
    }
   },
   "outputs": [],
   "source": [
    "def get_completion(prompt, model=\"gpt-3.5-turbo\"):\n",
    "    '''\n",
    "    prompt: 对应的提示词\n",
    "    model: 调用的模型，默认为 gpt-3.5-turbo(ChatGPT)，有内测资格的用户可以选择 gpt-4\n",
    "    '''\n",
    "    messages = [{\"role\": \"user\", \"content\": prompt}]\n",
    "    response = openai.ChatCompletion.create(\n",
    "        model=model,\n",
    "        messages=messages,\n",
    "        temperature=0, # 模型输出的温度系数，控制输出的随机程度\n",
    "    )\n",
    "    # 调用 OpenAI 的 ChatCompletion 接口\n",
    "    return response.choices[0].message[\"content\"]"
   ]
  },
  {
   "cell_type": "markdown",
   "id": "f3e5f5c8-7b3c-4760-a740-b420dadd512f",
   "metadata": {},
   "source": [
    "# 情感推断"
   ]
  },
  {
   "cell_type": "markdown",
   "id": "d97cd4c9-ee5a-4363-bb8b-bbb7ab360e0e",
   "metadata": {},
   "source": [
    "## 情感分类（正面/负面/分值）"
   ]
  },
  {
   "cell_type": "code",
   "execution_count": 3,
   "id": "e6994e9f-17a0-4293-b954-968f911ccec4",
   "metadata": {
    "execution": {
     "iopub.execute_input": "2024-03-02T13:29:57.957484Z",
     "iopub.status.busy": "2024-03-02T13:29:57.956981Z",
     "iopub.status.idle": "2024-03-02T13:29:57.976342Z",
     "shell.execute_reply": "2024-03-02T13:29:57.974175Z",
     "shell.execute_reply.started": "2024-03-02T13:29:57.957449Z"
    }
   },
   "outputs": [],
   "source": [
    "# 中文\n",
    "lamp_review_zh = \"\"\"\n",
    "我需要一盏漂亮的卧室灯，这款灯具有额外的储物功能，价格也不算太高。\\\n",
    "我很快就收到了它。在运输过程中，我们的灯绳断了，但是公司很乐意寄送了一个新的。\\\n",
    "几天后就收到了。这款灯很容易组装。我发现少了一个零件，于是联系了他们的客服，他们很快就给我寄来了缺失的零件！\\\n",
    "在我看来，Lumina 是一家非常关心顾客和产品的优秀公司！\n",
    "\"\"\""
   ]
  },
  {
   "cell_type": "code",
   "execution_count": 4,
   "id": "710c0e1f-7d50-4f96-9149-737c825621d5",
   "metadata": {
    "execution": {
     "iopub.execute_input": "2024-03-02T13:29:57.979686Z",
     "iopub.status.busy": "2024-03-02T13:29:57.978932Z",
     "iopub.status.idle": "2024-03-02T13:29:59.530352Z",
     "shell.execute_reply": "2024-03-02T13:29:59.528611Z",
     "shell.execute_reply.started": "2024-03-02T13:29:57.979647Z"
    }
   },
   "outputs": [
    {
     "name": "stdout",
     "output_type": "stream",
     "text": [
      "积极的情感。\n"
     ]
    }
   ],
   "source": [
    "prompt = f\"\"\"\n",
    "以下用三个反引号分隔的产品评论的情感是什么？\n",
    "\n",
    "评论文本: ```{lamp_review_zh}```\n",
    "\"\"\"\n",
    "response = get_completion(prompt)\n",
    "print(response)"
   ]
  },
  {
   "cell_type": "code",
   "execution_count": 5,
   "id": "44fbb76a-a041-4da7-bd34-3f767f99c198",
   "metadata": {
    "execution": {
     "iopub.execute_input": "2024-03-02T13:29:59.532633Z",
     "iopub.status.busy": "2024-03-02T13:29:59.532222Z",
     "iopub.status.idle": "2024-03-02T13:30:00.644334Z",
     "shell.execute_reply": "2024-03-02T13:30:00.640676Z",
     "shell.execute_reply.started": "2024-03-02T13:29:59.532602Z"
    }
   },
   "outputs": [
    {
     "name": "stdout",
     "output_type": "stream",
     "text": [
      "正面\n"
     ]
    }
   ],
   "source": [
    "prompt = f\"\"\"\n",
    "以下用三个反引号分隔的产品评论的情感是什么？\n",
    "请用一个词回答：正面或负面。\n",
    "\n",
    "评论文本: ```{lamp_review_zh}```\n",
    "\"\"\"\n",
    "response = get_completion(prompt)\n",
    "print(response)"
   ]
  },
  {
   "cell_type": "code",
   "execution_count": 6,
   "id": "b279ac19-6d2e-44fa-a622-865f3ef49718",
   "metadata": {
    "execution": {
     "iopub.execute_input": "2024-03-02T13:30:00.648851Z",
     "iopub.status.busy": "2024-03-02T13:30:00.648008Z",
     "iopub.status.idle": "2024-03-02T13:30:01.825643Z",
     "shell.execute_reply": "2024-03-02T13:30:01.823528Z",
     "shell.execute_reply.started": "2024-03-02T13:30:00.648791Z"
    }
   },
   "outputs": [
    {
     "name": "stdout",
     "output_type": "stream",
     "text": [
      "8\n"
     ]
    }
   ],
   "source": [
    "prompt = f\"\"\"\n",
    "以下三个三个反引号分隔的产品评论的情感是什么？\n",
    "请用一个【-10，10】之间的数字回答，10为最正面，-10为最负面。\n",
    "\n",
    "Review text: ```{lamp_review_zh}```\n",
    "\"\"\"\n",
    "response = get_completion(prompt)\n",
    "print(response)"
   ]
  },
  {
   "cell_type": "markdown",
   "id": "8a8e2cc1-d2d2-43ec-8cb4-b21c2257166e",
   "metadata": {},
   "source": [
    "## 识别情感类型"
   ]
  },
  {
   "cell_type": "code",
   "execution_count": 7,
   "id": "e29409b5-b4e7-4597-b102-c3b45ff7cc9e",
   "metadata": {
    "execution": {
     "iopub.execute_input": "2024-03-02T13:30:01.829988Z",
     "iopub.status.busy": "2024-03-02T13:30:01.829531Z",
     "iopub.status.idle": "2024-03-02T13:30:02.764318Z",
     "shell.execute_reply": "2024-03-02T13:30:02.759516Z",
     "shell.execute_reply.started": "2024-03-02T13:30:01.829956Z"
    }
   },
   "outputs": [
    {
     "name": "stdout",
     "output_type": "stream",
     "text": [
      "['满意', '感激', '信任', '赞扬', '满足']\n"
     ]
    }
   ],
   "source": [
    "prompt = f\"\"\"\n",
    "识别以下评论的作者表达的情感，不超过五个项目，将答案python list的方式返回\n",
    "\n",
    "评论：{lamp_review_zh}\n",
    "\"\"\"\n",
    "response = get_completion(prompt)\n",
    "print(response)"
   ]
  },
  {
   "cell_type": "markdown",
   "id": "f4eb63cd-a744-4eda-b05d-00ee5a73974b",
   "metadata": {},
   "source": [
    "## 识别愤怒/喜欢"
   ]
  },
  {
   "cell_type": "code",
   "execution_count": 8,
   "id": "ba61dfe0-8837-425d-aeef-ae2897fd342d",
   "metadata": {
    "execution": {
     "iopub.execute_input": "2024-03-02T13:30:02.768437Z",
     "iopub.status.busy": "2024-03-02T13:30:02.767836Z",
     "iopub.status.idle": "2024-03-02T13:30:03.466197Z",
     "shell.execute_reply": "2024-03-02T13:30:03.462100Z",
     "shell.execute_reply.started": "2024-03-02T13:30:02.768392Z"
    }
   },
   "outputs": [
    {
     "name": "stdout",
     "output_type": "stream",
     "text": [
      "否。\n"
     ]
    }
   ],
   "source": [
    "prompt = f\"\"\"\n",
    "以下评论的作者是否表达了愤怒？评论用三个反引号分隔。给出是或否的答案。\n",
    "\n",
    "评论文本: ```{lamp_review_zh}```\n",
    "\"\"\"\n",
    "response = get_completion(prompt)\n",
    "print(response)"
   ]
  },
  {
   "cell_type": "code",
   "execution_count": 9,
   "id": "e0e41528-8250-4ac5-9d04-85227d8eca1f",
   "metadata": {
    "execution": {
     "iopub.execute_input": "2024-03-02T13:30:03.469701Z",
     "iopub.status.busy": "2024-03-02T13:30:03.468938Z",
     "iopub.status.idle": "2024-03-02T13:30:04.197222Z",
     "shell.execute_reply": "2024-03-02T13:30:04.195010Z",
     "shell.execute_reply.started": "2024-03-02T13:30:03.469663Z"
    }
   },
   "outputs": [
    {
     "name": "stdout",
     "output_type": "stream",
     "text": [
      "是\n"
     ]
    }
   ],
   "source": [
    "prompt = f\"\"\"\n",
    "以下评论的作者是否表达了喜欢？评论用三个反引号分隔。给出是或否的答案。\n",
    "\n",
    "评论文本: ```{lamp_review_zh}```\n",
    "\"\"\"\n",
    "response = get_completion(prompt)\n",
    "print(response)"
   ]
  },
  {
   "cell_type": "markdown",
   "id": "f95d7aa0-4bc2-4a48-8caf-8e7759666945",
   "metadata": {},
   "source": [
    "# 信息提取"
   ]
  },
  {
   "cell_type": "markdown",
   "id": "1fe0e2cc-6d2d-469a-abb4-c5ef44b6d036",
   "metadata": {},
   "source": [
    "## 商品信息提取"
   ]
  },
  {
   "cell_type": "code",
   "execution_count": 10,
   "id": "21c6d33a-84ff-4bb8-b4cb-0243508e51a4",
   "metadata": {
    "execution": {
     "iopub.execute_input": "2024-03-02T13:30:04.199660Z",
     "iopub.status.busy": "2024-03-02T13:30:04.199112Z",
     "iopub.status.idle": "2024-03-02T13:30:05.472930Z",
     "shell.execute_reply": "2024-03-02T13:30:05.470201Z",
     "shell.execute_reply.started": "2024-03-02T13:30:04.199621Z"
    }
   },
   "outputs": [
    {
     "name": "stdout",
     "output_type": "stream",
     "text": [
      "```json\n",
      "{\n",
      "    \"物品\": \"卧室灯\",\n",
      "    \"品牌\": \"Lumina\"\n",
      "}\n",
      "```\n"
     ]
    }
   ],
   "source": [
    "prompt = f\"\"\"\n",
    "从评论文本中识别以下项目：\n",
    "- 评论者购买的物品\n",
    "- 制造该物品的公司\n",
    "\n",
    "评论文本用三个反引号分隔。将你的响应格式化为以 “物品” 和 “品牌” 为键的 JSON 对象。\n",
    "如果信息不存在，请使用 “未知” 作为值。\n",
    "让你的回应尽可能简短。\n",
    "  \n",
    "评论文本: ```{lamp_review_zh}```\n",
    "\"\"\"\n",
    "response = get_completion(prompt)\n",
    "print(response)"
   ]
  },
  {
   "cell_type": "markdown",
   "id": "e6eb501a-5496-48f6-ae34-3c2ffefafd49",
   "metadata": {},
   "source": [
    "## 综合信息处理"
   ]
  },
  {
   "cell_type": "code",
   "execution_count": 11,
   "id": "db66e52c-ca85-4df3-abdb-83dcc298f774",
   "metadata": {
    "execution": {
     "iopub.execute_input": "2024-03-02T13:30:05.476811Z",
     "iopub.status.busy": "2024-03-02T13:30:05.475868Z",
     "iopub.status.idle": "2024-03-02T13:30:06.725704Z",
     "shell.execute_reply": "2024-03-02T13:30:06.723286Z",
     "shell.execute_reply.started": "2024-03-02T13:30:05.476751Z"
    }
   },
   "outputs": [
    {
     "name": "stdout",
     "output_type": "stream",
     "text": [
      "```json\n",
      "{\n",
      "    \"Sentiment\": \"正面\",\n",
      "    \"Anger\": false,\n",
      "    \"Item\": \"卧室灯\",\n",
      "    \"Brand\": \"Lumina\"\n",
      "}\n",
      "```\n"
     ]
    }
   ],
   "source": [
    "prompt = f\"\"\"\n",
    "从评论文本中识别以下项目：\n",
    "- 情绪（正面或负面）\n",
    "- 审稿人是否表达了愤怒？（是或否）\n",
    "- 评论者购买的物品\n",
    "- 制造该物品的公司\n",
    "\n",
    "评论用三个反引号分隔。将您的响应格式化为 JSON 对象，以 “Sentiment”、“Anger”、“Item” 和 “Brand” 作为键。\n",
    "如果信息不存在，请使用 “未知” 作为值。\n",
    "让你的回应尽可能简短。\n",
    "将 Anger 值格式化为布尔值。\n",
    "\n",
    "评论文本: ```{lamp_review_zh}```\n",
    "\"\"\"\n",
    "response = get_completion(prompt)\n",
    "print(response)"
   ]
  },
  {
   "cell_type": "markdown",
   "id": "982764c1-394f-4d91-8931-50d070ff5d09",
   "metadata": {},
   "source": [
    "# 主题推断"
   ]
  },
  {
   "cell_type": "code",
   "execution_count": 12,
   "id": "1749cc42-ed3d-4417-95e4-4ea1a691f850",
   "metadata": {
    "execution": {
     "iopub.execute_input": "2024-03-02T13:30:06.728092Z",
     "iopub.status.busy": "2024-03-02T13:30:06.727525Z",
     "iopub.status.idle": "2024-03-02T13:30:06.738797Z",
     "shell.execute_reply": "2024-03-02T13:30:06.735958Z",
     "shell.execute_reply.started": "2024-03-02T13:30:06.728054Z"
    }
   },
   "outputs": [],
   "source": [
    "# 中文\n",
    "story_zh = \"\"\"\n",
    "在政府最近进行的一项调查中，要求公共部门的员工对他们所在部门的满意度进行评分。\n",
    "调查结果显示，NASA 是最受欢迎的部门，满意度为 95％。\n",
    "\n",
    "一位 NASA 员工 John Smith 对这一发现发表了评论，他表示：\n",
    "“我对 NASA 排名第一并不感到惊讶。这是一个与了不起的人们和令人难以置信的机会共事的好地方。我为成为这样一个创新组织的一员感到自豪。”\n",
    "\n",
    "NASA 的管理团队也对这一结果表示欢迎，主管 Tom Johnson 表示：\n",
    "“我们很高兴听到我们的员工对 NASA 的工作感到满意。\n",
    "我们拥有一支才华横溢、忠诚敬业的团队，他们为实现我们的目标不懈努力，看到他们的辛勤工作得到回报是太棒了。”\n",
    "\n",
    "调查还显示，社会保障管理局的满意度最低，只有 45％的员工表示他们对工作满意。\n",
    "政府承诺解决调查中员工提出的问题，并努力提高所有部门的工作满意度。\n",
    "\"\"\""
   ]
  },
  {
   "cell_type": "markdown",
   "id": "4b08c156-ed03-4b80-a845-c015f83ff785",
   "metadata": {},
   "source": [
    "## 推断主题"
   ]
  },
  {
   "cell_type": "code",
   "execution_count": 13,
   "id": "0017cfe2-c72f-4395-a7ed-bf174015dd6c",
   "metadata": {
    "execution": {
     "iopub.execute_input": "2024-03-02T13:30:06.742956Z",
     "iopub.status.busy": "2024-03-02T13:30:06.741214Z",
     "iopub.status.idle": "2024-03-02T13:30:08.621097Z",
     "shell.execute_reply": "2024-03-02T13:30:08.616615Z",
     "shell.execute_reply.started": "2024-03-02T13:30:06.742909Z"
    }
   },
   "outputs": [
    {
     "name": "stdout",
     "output_type": "stream",
     "text": [
      "主题：公共部门员工满意度调查结果，NASA 满意度最高，社会保障管理局满意度最低，政府努力提高员工满意度。\n"
     ]
    }
   ],
   "source": [
    "prompt = f\"\"\"\n",
    "总结以下文本的主题。\n",
    "\n",
    "文本: ```{story_zh}```\n",
    "\"\"\"\n",
    "response = get_completion(prompt)\n",
    "print(response)"
   ]
  },
  {
   "cell_type": "code",
   "execution_count": 14,
   "id": "579f527e-8546-4df5-9263-df0186d6c468",
   "metadata": {
    "execution": {
     "iopub.execute_input": "2024-03-02T13:30:08.624640Z",
     "iopub.status.busy": "2024-03-02T13:30:08.623894Z",
     "iopub.status.idle": "2024-03-02T13:30:10.104658Z",
     "shell.execute_reply": "2024-03-02T13:30:10.102887Z",
     "shell.execute_reply.started": "2024-03-02T13:30:08.624588Z"
    }
   },
   "outputs": [
    {
     "name": "stdout",
     "output_type": "stream",
     "text": [
      "NASA, 员工满意度, 管理团队, 社会保障, 政府承诺\n"
     ]
    }
   ],
   "source": [
    "prompt = f\"\"\"\n",
    "总结提炼以下给定文本中的五个主题。\n",
    "\n",
    "每个主题用1-2个单词概括。\n",
    "\n",
    "输出时用逗号分割每个主题。\n",
    "\n",
    "文本: ```{story_zh}```\n",
    "\"\"\"\n",
    "response = get_completion(prompt)\n",
    "print(response)"
   ]
  },
  {
   "cell_type": "markdown",
   "id": "6ffc14bf-21b8-49a5-b717-b2540c792c51",
   "metadata": {},
   "source": [
    "## 为特定主题制作新闻提醒"
   ]
  },
  {
   "cell_type": "code",
   "execution_count": 15,
   "id": "f3d61de8-4ba5-4d8a-a251-07515ea024b7",
   "metadata": {
    "execution": {
     "iopub.execute_input": "2024-03-02T13:30:10.106682Z",
     "iopub.status.busy": "2024-03-02T13:30:10.106229Z",
     "iopub.status.idle": "2024-03-02T13:30:11.443467Z",
     "shell.execute_reply": "2024-03-02T13:30:11.441254Z",
     "shell.execute_reply.started": "2024-03-02T13:30:10.106646Z"
    }
   },
   "outputs": [
    {
     "name": "stdout",
     "output_type": "stream",
     "text": [
      "美国航空航天局：1\n",
      "当地政府：1\n",
      "工程：0\n",
      "员工满意度：1\n",
      "联邦政府：1\n"
     ]
    }
   ],
   "source": [
    "prompt = f\"\"\"\n",
    "判断主题列表中的每一项是否是给定文本中的一个话题，\n",
    "\n",
    "以列表的形式给出答案，每个主题用 0 或 1， 比如“美国航空航天局：0”。\n",
    "\n",
    "主题列表：美国航空航天局、当地政府、工程、员工满意度、联邦政府\n",
    "\n",
    "给定文本: ```{story_zh}```\n",
    "\"\"\"\n",
    "response = get_completion(prompt)\n",
    "print(response)"
   ]
  },
  {
   "cell_type": "code",
   "execution_count": 16,
   "id": "5d948c1c-289a-4dc7-8957-835bb9ed7b7b",
   "metadata": {
    "execution": {
     "iopub.execute_input": "2024-03-02T13:30:11.445783Z",
     "iopub.status.busy": "2024-03-02T13:30:11.445268Z",
     "iopub.status.idle": "2024-03-02T13:30:11.458216Z",
     "shell.execute_reply": "2024-03-02T13:30:11.455342Z",
     "shell.execute_reply.started": "2024-03-02T13:30:11.445745Z"
    }
   },
   "outputs": [
    {
     "name": "stdout",
     "output_type": "stream",
     "text": [
      "提醒: 关于美国航空航天局的新消息\n"
     ]
    }
   ],
   "source": [
    "topic_dict = {i.split('：')[0]: int(i.split('：')[1]) for i in response.split(sep='\\n')}\n",
    "if topic_dict['美国航空航天局'] == 1:\n",
    "    print(\"提醒: 关于美国航空航天局的新消息\")"
   ]
  },
  {
   "cell_type": "code",
   "execution_count": null,
   "id": "0b6e4411-d9d9-4cf0-a50d-8c01ed3af16b",
   "metadata": {},
   "outputs": [],
   "source": []
  }
 ],
 "metadata": {
  "kernelspec": {
   "display_name": "llm-learing",
   "language": "python",
   "name": "llm-learning"
  },
  "language_info": {
   "codemirror_mode": {
    "name": "ipython",
    "version": 3
   },
   "file_extension": ".py",
   "mimetype": "text/x-python",
   "name": "python",
   "nbconvert_exporter": "python",
   "pygments_lexer": "ipython3",
   "version": "3.9.18"
  }
 },
 "nbformat": 4,
 "nbformat_minor": 5
}
